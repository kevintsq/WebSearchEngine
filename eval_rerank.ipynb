{
 "cells": [
  {
   "cell_type": "code",
   "execution_count": 1,
   "id": "initial_id",
   "metadata": {
    "ExecuteTime": {
     "end_time": "2023-12-07T05:56:09.073336858Z",
     "start_time": "2023-12-07T05:56:06.653098933Z"
    },
    "collapsed": true
   },
   "outputs": [],
   "source": [
    "import pandas as pd\n",
    "import pickle\n",
    "from sentence_transformers import CrossEncoder\n",
    "import torch\n",
    "from tqdm import tqdm\n",
    "from typing import List, Tuple\n",
    "device = torch.device('cuda' if torch.cuda.is_available() else 'cpu')"
   ]
  },
  {
   "cell_type": "code",
   "execution_count": 3,
   "id": "b5c07734bda525ba",
   "metadata": {
    "ExecuteTime": {
     "end_time": "2023-12-07T05:56:09.494675355Z",
     "start_time": "2023-12-07T05:56:09.119643399Z"
    },
    "collapsed": false
   },
   "outputs": [],
   "source": [
    "#The bi-encoder will retrieve 100 documents. We use a cross-encoder, to re-rank the results list to improve the quality\n",
    "cross_encoder = CrossEncoder('cross-encoder/ms-marco-MiniLM-L-6-v2', device=device)"
   ]
  },
  {
   "cell_type": "code",
   "execution_count": 4,
   "id": "b7fb1644a0559e31",
   "metadata": {
    "ExecuteTime": {
     "end_time": "2023-12-07T05:56:09.638028205Z",
     "start_time": "2023-12-07T05:56:09.496437826Z"
    },
    "collapsed": false
   },
   "outputs": [],
   "source": [
    "queries = pd.read_csv(r\"queries.doctrain.tsv\", sep='\\t', header=None, names=['qid', 'query'], index_col=['qid'])['query']"
   ]
  },
  {
   "cell_type": "code",
   "execution_count": 5,
   "id": "9ac7e31d0cb685b8",
   "metadata": {
    "ExecuteTime": {
     "end_time": "2023-12-07T05:56:10.851259072Z",
     "start_time": "2023-12-07T05:56:09.639275989Z"
    },
    "collapsed": false
   },
   "outputs": [],
   "source": [
    "# load semantic search results\n",
    "with open('semantic_search_results.pkl', 'rb') as f:\n",
    "    semantic_search_results: List[Tuple[int, int]] = pickle.load(f)  # (qid, pid)"
   ]
  },
  {
   "cell_type": "code",
   "execution_count": 6,
   "id": "13c9be939cc78a98",
   "metadata": {
    "ExecuteTime": {
     "end_time": "2023-12-07T05:57:56.553409134Z",
     "start_time": "2023-12-07T05:56:10.852129600Z"
    },
    "collapsed": false
   },
   "outputs": [],
   "source": [
    "docs = pd.read_table('msmarco-docs.tsv', header=None, names=['id', 'url', 'title', 'body'], usecols=['body'], dtype='string')['body']"
   ]
  },
  {
   "cell_type": "code",
   "execution_count": 7,
   "id": "da7c191216cef68d",
   "metadata": {
    "ExecuteTime": {
     "end_time": "2023-12-07T05:57:56.626363008Z",
     "start_time": "2023-12-07T05:57:56.595156640Z"
    },
    "collapsed": false
   },
   "outputs": [
    {
     "data": {
      "text/plain": [
       "0    Science & Mathematics Physics The hot glowing ...\n",
       "Name: body, dtype: string"
      ]
     },
     "execution_count": 7,
     "metadata": {},
     "output_type": "execute_result"
    }
   ],
   "source": [
    "docs.head(1)"
   ]
  },
  {
   "cell_type": "code",
   "execution_count": 8,
   "id": "86980e577615da0b",
   "metadata": {
    "ExecuteTime": {
     "end_time": "2023-12-07T05:57:56.854848625Z",
     "start_time": "2023-12-07T05:57:56.597184044Z"
    },
    "collapsed": false
   },
   "outputs": [],
   "source": [
    "docs.dropna(inplace=True)"
   ]
  },
  {
   "cell_type": "code",
   "execution_count": 9,
   "id": "1551575a86bf6411",
   "metadata": {
    "ExecuteTime": {
     "end_time": "2023-12-07T05:57:56.872318831Z",
     "start_time": "2023-12-07T05:57:56.855513911Z"
    },
    "collapsed": false
   },
   "outputs": [],
   "source": [
    "# docs.index.to_series().to_csv('corpus_id_to_doc_id.txt', header=False, index=False)"
   ]
  },
  {
   "cell_type": "code",
   "execution_count": 10,
   "id": "98883f9b75ac0e78",
   "metadata": {
    "ExecuteTime": {
     "end_time": "2023-12-07T05:57:57.207062564Z",
     "start_time": "2023-12-07T05:57:56.858997720Z"
    },
    "collapsed": false
   },
   "outputs": [
    {
     "data": {
      "text/plain": [
       "body\n",
       "<class 'str'>    3201821\n",
       "Name: count, dtype: int64"
      ]
     },
     "execution_count": 10,
     "metadata": {},
     "output_type": "execute_result"
    }
   ],
   "source": [
    "docs.map(type).value_counts()"
   ]
  },
  {
   "cell_type": "code",
   "execution_count": 11,
   "id": "81c413884fd5182a",
   "metadata": {
    "ExecuteTime": {
     "end_time": "2023-12-07T05:57:57.424178352Z",
     "start_time": "2023-12-07T05:57:57.423373275Z"
    },
    "collapsed": false
   },
   "outputs": [],
   "source": [
    "#Encode all passages\n",
    "docs = docs.tolist()"
   ]
  },
  {
   "cell_type": "code",
   "execution_count": 12,
   "id": "19b58ba7e76ec1c3",
   "metadata": {
    "ExecuteTime": {
     "end_time": "2023-12-07T05:57:57.435124881Z",
     "start_time": "2023-12-07T05:57:57.424721471Z"
    },
    "collapsed": false
   },
   "outputs": [],
   "source": [
    "# corpus_embeddings = bi_encoder.encode(docs, convert_to_tensor=True, show_progress_bar=True, device=device)"
   ]
  },
  {
   "cell_type": "code",
   "execution_count": 13,
   "id": "17523f3d836fb6d7",
   "metadata": {
    "ExecuteTime": {
     "end_time": "2023-12-07T05:57:57.452767463Z",
     "start_time": "2023-12-07T05:57:57.435474127Z"
    },
    "collapsed": false
   },
   "outputs": [],
   "source": [
    "# save embeddings\n",
    "# torch.save(corpus_embeddings, 'corpus_embeddings.pt')"
   ]
  },
  {
   "cell_type": "code",
   "execution_count": 14,
   "id": "fd1957bcb98d93d9",
   "metadata": {
    "ExecuteTime": {
     "end_time": "2023-12-07T05:58:16.384039810Z",
     "start_time": "2023-12-07T05:57:57.451446359Z"
    },
    "collapsed": false
   },
   "outputs": [
    {
     "name": "stderr",
     "output_type": "stream",
     "text": [
      "100%|██████████| 367013/367013 [00:18<00:00, 19401.92it/s]\n"
     ]
    }
   ],
   "source": [
    "cross_inp = []\n",
    "for result in tqdm(semantic_search_results):\n",
    "    for qid, pid in result:\n",
    "        cross_inp.append([queries[qid], docs[pid]])"
   ]
  },
  {
   "cell_type": "code",
   "execution_count": 15,
   "id": "7664d5bdec7920f0",
   "metadata": {
    "ExecuteTime": {
     "end_time": "2023-12-07T21:05:01.881998437Z",
     "start_time": "2023-12-07T05:58:16.391139519Z"
    },
    "collapsed": false
   },
   "outputs": [
    {
     "data": {
      "application/vnd.jupyter.widget-view+json": {
       "model_id": "98809b624da54bf3ad7adb1a7254394d",
       "version_major": 2,
       "version_minor": 0
      },
      "text/plain": [
       "Batches:   0%|          | 0/52431 [00:00<?, ?it/s]"
      ]
     },
     "metadata": {},
     "output_type": "display_data"
    }
   ],
   "source": [
    "cross_scores = cross_encoder.predict(cross_inp, batch_size=224, show_progress_bar=True)"
   ]
  },
  {
   "cell_type": "code",
   "execution_count": 18,
   "id": "2ca4095bd7060de9",
   "metadata": {
    "ExecuteTime": {
     "end_time": "2023-12-07T23:03:49.413121247Z",
     "start_time": "2023-12-07T23:03:49.152967955Z"
    },
    "collapsed": false
   },
   "outputs": [],
   "source": [
    "# save cross scores\n",
    "torch.save(cross_scores, 'cross_scores.pt')"
   ]
  },
  {
   "cell_type": "code",
   "execution_count": 16,
   "id": "917abefb6a807292",
   "metadata": {
    "ExecuteTime": {
     "end_time": "2023-12-07T21:05:01.897243741Z",
     "start_time": "2023-12-07T21:05:01.879349307Z"
    },
    "collapsed": false
   },
   "outputs": [],
   "source": [
    "top_k = 32\n",
    "n_results = 10"
   ]
  },
  {
   "cell_type": "code",
   "execution_count": 20,
   "id": "72a8f77a7bb36692",
   "metadata": {
    "ExecuteTime": {
     "end_time": "2023-12-08T01:20:03.930878905Z",
     "start_time": "2023-12-08T01:20:01.492772907Z"
    },
    "collapsed": false
   },
   "outputs": [
    {
     "name": "stderr",
     "output_type": "stream",
     "text": [
      "367013it [00:02, 153200.42it/s]\n"
     ]
    }
   ],
   "source": [
    "results = []\n",
    "cross_score_idx = 0\n",
    "for semantic_search_result in tqdm(semantic_search_results):\n",
    "    q_i_results = []\n",
    "    for j in range(n_results):\n",
    "        q_i_results.append((semantic_search_result[j][1], cross_scores[cross_score_idx]))\n",
    "        cross_score_idx += 1\n",
    "    results.append([x[0] for x in sorted(q_i_results, key=lambda x: x[1], reverse=True)])"
   ]
  },
  {
   "cell_type": "code",
   "execution_count": 21,
   "id": "f1986c4306bdce00",
   "metadata": {
    "ExecuteTime": {
     "end_time": "2023-12-08T01:21:01.342652458Z",
     "start_time": "2023-12-08T01:21:01.087934798Z"
    },
    "collapsed": false
   },
   "outputs": [],
   "source": [
    "with open('corpus_id_to_doc_id.txt') as f:\n",
    "    doc_ids = list(map(int, f.read().splitlines()))"
   ]
  },
  {
   "cell_type": "code",
   "execution_count": 22,
   "id": "f00b16190f30915e",
   "metadata": {
    "ExecuteTime": {
     "end_time": "2023-12-08T01:21:04.779544856Z",
     "start_time": "2023-12-08T01:21:04.723116111Z"
    },
    "collapsed": false
   },
   "outputs": [
    {
     "data": {
      "text/plain": [
       "pid\n",
       "<class 'int'>    367013\n",
       "Name: count, dtype: int64"
      ]
     },
     "execution_count": 22,
     "metadata": {},
     "output_type": "execute_result"
    }
   ],
   "source": [
    "relevance = pd.read_csv(r\"msmarco-doctrain-qrels-idconverted.tsv\", sep='\\t', header=None, names=['qid', 'pid'], index_col=['qid'], dtype=int)['pid']\n",
    "relevance.map(type).value_counts()"
   ]
  },
  {
   "cell_type": "code",
   "execution_count": 23,
   "id": "fd2c80371facc72e",
   "metadata": {
    "ExecuteTime": {
     "end_time": "2023-12-08T01:21:10.967033651Z",
     "start_time": "2023-12-08T01:21:08.150161164Z"
    },
    "collapsed": false
   },
   "outputs": [
    {
     "name": "stderr",
     "output_type": "stream",
     "text": [
      "367013it [00:02, 132359.19it/s]\n"
     ]
    },
    {
     "data": {
      "text/plain": [
       "0.17274428971159622"
      ]
     },
     "execution_count": 23,
     "metadata": {},
     "output_type": "execute_result"
    }
   ],
   "source": [
    "pak_sum = 0\n",
    "for qid, result in tqdm(zip(queries.index, results)):\n",
    "    for i in range(n_results):\n",
    "        if relevance[qid] == doc_ids[result[i]]:\n",
    "            pak_sum += 1 / (i + 1)\n",
    "            break\n",
    "pak_sum / len(results)"
   ]
  },
  {
   "cell_type": "code",
   "execution_count": null,
   "id": "6c33016aa3a01a7d",
   "metadata": {
    "collapsed": false
   },
   "outputs": [],
   "source": []
  }
 ],
 "metadata": {
  "kernelspec": {
   "display_name": "Python 3",
   "language": "python",
   "name": "python3"
  },
  "language_info": {
   "codemirror_mode": {
    "name": "ipython",
    "version": 2
   },
   "file_extension": ".py",
   "mimetype": "text/x-python",
   "name": "python",
   "nbconvert_exporter": "python",
   "pygments_lexer": "ipython2",
   "version": "2.7.6"
  }
 },
 "nbformat": 4,
 "nbformat_minor": 5
}
