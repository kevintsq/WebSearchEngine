{
 "cells": [
  {
   "cell_type": "code",
   "execution_count": 1,
   "id": "initial_id",
   "metadata": {
    "collapsed": true,
    "ExecuteTime": {
     "end_time": "2023-12-24T18:47:32.883272800Z",
     "start_time": "2023-12-24T18:47:28.405654800Z"
    }
   },
   "outputs": [],
   "source": [
    "import pandas as pd\n",
    "from sentence_transformers import SentenceTransformer\n",
    "import torch\n",
    "device = torch.device('cuda' if torch.cuda.is_available() else 'cpu')"
   ]
  },
  {
   "cell_type": "code",
   "execution_count": 2,
   "outputs": [],
   "source": [
    "#We use the Bi-Encoder to encode all passages, so that we can use it with sematic search\n",
    "model_name = 'msmarco-MiniLM-L6-cos-v5'\n",
    "bi_encoder = SentenceTransformer(model_name, device=device)\n",
    "bi_encoder.max_seq_length = 256     #Truncate long passages to 256 tokens"
   ],
   "metadata": {
    "collapsed": false,
    "ExecuteTime": {
     "end_time": "2023-12-24T18:47:33.674879400Z",
     "start_time": "2023-12-24T18:47:32.882769200Z"
    }
   },
   "id": "d60867851615860e"
  },
  {
   "cell_type": "code",
   "execution_count": 3,
   "outputs": [],
   "source": [
    "docs = pd.read_table('msmarco-docs.tsv', header=None, names=['id', 'url', 'title', 'body'], usecols=['body'], dtype='string')['body']"
   ],
   "metadata": {
    "collapsed": false,
    "ExecuteTime": {
     "end_time": "2023-12-24T18:50:20.738908600Z",
     "start_time": "2023-12-24T18:47:33.676005900Z"
    }
   },
   "id": "13c9be939cc78a98"
  },
  {
   "cell_type": "code",
   "outputs": [],
   "source": [
    "docs.dropna(inplace=True)"
   ],
   "metadata": {
    "collapsed": false,
    "ExecuteTime": {
     "end_time": "2023-12-24T18:50:21.210547Z",
     "start_time": "2023-12-24T18:50:20.738908600Z"
    }
   },
   "id": "5f6aaad54030e60b",
   "execution_count": 4
  },
  {
   "cell_type": "code",
   "outputs": [],
   "source": [
    "# docs.index.to_series().to_csv('corpus_id_to_doc_id.txt', header=False, index=False)"
   ],
   "metadata": {
    "collapsed": false,
    "ExecuteTime": {
     "end_time": "2023-12-24T18:50:21.223984400Z",
     "start_time": "2023-12-24T18:50:21.210547Z"
    }
   },
   "id": "ef807920842a48b0",
   "execution_count": 5
  },
  {
   "cell_type": "code",
   "outputs": [
    {
     "data": {
      "text/plain": "body\n<class 'str'>    3201821\nName: count, dtype: int64"
     },
     "execution_count": 6,
     "metadata": {},
     "output_type": "execute_result"
    }
   ],
   "source": [
    "docs.map(type).value_counts()"
   ],
   "metadata": {
    "collapsed": false,
    "ExecuteTime": {
     "end_time": "2023-12-24T18:50:21.774812900Z",
     "start_time": "2023-12-24T18:50:21.216639800Z"
    }
   },
   "id": "89044bd7f2574b26",
   "execution_count": 6
  },
  {
   "cell_type": "code",
   "execution_count": 7,
   "outputs": [],
   "source": [
    "#Encode all passages\n",
    "docs = docs.tolist()"
   ],
   "metadata": {
    "collapsed": false,
    "ExecuteTime": {
     "end_time": "2023-12-24T18:50:22.062384400Z",
     "start_time": "2023-12-24T18:50:21.774812900Z"
    }
   },
   "id": "81c413884fd5182a"
  },
  {
   "cell_type": "code",
   "execution_count": 8,
   "outputs": [
    {
     "data": {
      "text/plain": "Batches:   0%|          | 0/100057 [00:00<?, ?it/s]",
      "application/vnd.jupyter.widget-view+json": {
       "version_major": 2,
       "version_minor": 0,
       "model_id": "29e8b2cbff424b9a8e37707a845487fd"
      }
     },
     "metadata": {},
     "output_type": "display_data"
    }
   ],
   "source": [
    "corpus_embeddings = bi_encoder.encode(docs, convert_to_tensor=True, show_progress_bar=True, device=device)"
   ],
   "metadata": {
    "collapsed": false,
    "ExecuteTime": {
     "end_time": "2023-12-24T20:46:43.035660400Z",
     "start_time": "2023-12-24T18:50:22.062384400Z"
    }
   },
   "id": "19b58ba7e76ec1c3"
  },
  {
   "cell_type": "code",
   "execution_count": 9,
   "outputs": [],
   "source": [
    "# save embeddings\n",
    "torch.save(corpus_embeddings, f'corpus_embeddings_{model_name}.pt')"
   ],
   "metadata": {
    "collapsed": false,
    "ExecuteTime": {
     "end_time": "2023-12-24T20:46:48.235722500Z",
     "start_time": "2023-12-24T20:46:43.034648600Z"
    }
   },
   "id": "d6591934d7424a32"
  }
 ],
 "metadata": {
  "kernelspec": {
   "display_name": "Python 3",
   "language": "python",
   "name": "python3"
  },
  "language_info": {
   "codemirror_mode": {
    "name": "ipython",
    "version": 2
   },
   "file_extension": ".py",
   "mimetype": "text/x-python",
   "name": "python",
   "nbconvert_exporter": "python",
   "pygments_lexer": "ipython2",
   "version": "2.7.6"
  }
 },
 "nbformat": 4,
 "nbformat_minor": 5
}
